{
 "cells": [
  {
   "cell_type": "code",
   "execution_count": 1,
   "metadata": {
    "collapsed": true
   },
   "outputs": [],
   "source": [
    "import pandas as pd\n",
    "from sklearn.cluster import KMeans\n",
    "import numpy as np"
   ]
  },
  {
   "cell_type": "code",
   "execution_count": 2,
   "outputs": [],
   "source": [
    "data = pd.read_csv('Police_Department_Incidents_-_Previous_Year__2016_.csv')"
   ],
   "metadata": {
    "collapsed": false,
    "pycharm": {
     "name": "#%%\n"
    }
   }
  },
  {
   "cell_type": "code",
   "execution_count": 3,
   "outputs": [],
   "source": [
    "location = data.filter(['Y', 'X'], axis=1)"
   ],
   "metadata": {
    "collapsed": false,
    "pycharm": {
     "name": "#%%\n"
    }
   }
  },
  {
   "cell_type": "code",
   "execution_count": 4,
   "outputs": [
    {
     "data": {
      "text/plain": "                   Y              X\ncount  150500.000000  150500.000000\nmean       37.768921    -122.423599\nstd         0.023637       0.026210\nmin        37.707922    -122.513642\n25%        37.756486    -122.434036\n50%        37.775421    -122.416903\n75%        37.785063    -122.406605\nmax        37.819975    -122.365565",
      "text/html": "<div>\n<style scoped>\n    .dataframe tbody tr th:only-of-type {\n        vertical-align: middle;\n    }\n\n    .dataframe tbody tr th {\n        vertical-align: top;\n    }\n\n    .dataframe thead th {\n        text-align: right;\n    }\n</style>\n<table border=\"1\" class=\"dataframe\">\n  <thead>\n    <tr style=\"text-align: right;\">\n      <th></th>\n      <th>Y</th>\n      <th>X</th>\n    </tr>\n  </thead>\n  <tbody>\n    <tr>\n      <th>count</th>\n      <td>150500.000000</td>\n      <td>150500.000000</td>\n    </tr>\n    <tr>\n      <th>mean</th>\n      <td>37.768921</td>\n      <td>-122.423599</td>\n    </tr>\n    <tr>\n      <th>std</th>\n      <td>0.023637</td>\n      <td>0.026210</td>\n    </tr>\n    <tr>\n      <th>min</th>\n      <td>37.707922</td>\n      <td>-122.513642</td>\n    </tr>\n    <tr>\n      <th>25%</th>\n      <td>37.756486</td>\n      <td>-122.434036</td>\n    </tr>\n    <tr>\n      <th>50%</th>\n      <td>37.775421</td>\n      <td>-122.416903</td>\n    </tr>\n    <tr>\n      <th>75%</th>\n      <td>37.785063</td>\n      <td>-122.406605</td>\n    </tr>\n    <tr>\n      <th>max</th>\n      <td>37.819975</td>\n      <td>-122.365565</td>\n    </tr>\n  </tbody>\n</table>\n</div>"
     },
     "execution_count": 4,
     "metadata": {},
     "output_type": "execute_result"
    }
   ],
   "source": [
    "location.describe()"
   ],
   "metadata": {
    "collapsed": false,
    "pycharm": {
     "name": "#%%\n"
    }
   }
  },
  {
   "cell_type": "code",
   "execution_count": 5,
   "outputs": [
    {
     "name": "stdout",
     "output_type": "stream",
     "text": [
      "[[  37.77546762 -122.41412838]\n",
      " [  37.74855403 -122.46926044]\n",
      " [  37.73718918 -122.39648604]\n",
      " ...\n",
      " [  37.7388445  -122.42558417]\n",
      " [  37.72204237 -122.39831526]\n",
      " [  37.80807333 -122.40941988]]\n"
     ]
    }
   ],
   "source": [
    "kmeans = KMeans(n_clusters=2000).fit(location)\n",
    "centroids = kmeans.cluster_centers_\n",
    "print(centroids)"
   ],
   "metadata": {
    "collapsed": false,
    "pycharm": {
     "name": "#%%\n"
    }
   }
  },
  {
   "cell_type": "code",
   "execution_count": 1,
   "outputs": [
    {
     "ename": "NameError",
     "evalue": "name 'centroids' is not defined",
     "output_type": "error",
     "traceback": [
      "\u001B[0;31m---------------------------------------------------------------------------\u001B[0m",
      "\u001B[0;31mNameError\u001B[0m                                 Traceback (most recent call last)",
      "\u001B[0;32m<ipython-input-1-4856d5655d65>\u001B[0m in \u001B[0;36m<module>\u001B[0;34m\u001B[0m\n\u001B[0;32m----> 1\u001B[0;31m \u001B[0mlst\u001B[0m \u001B[0;34m=\u001B[0m \u001B[0mcentroids\u001B[0m\u001B[0;34m.\u001B[0m\u001B[0mtolist\u001B[0m\u001B[0;34m(\u001B[0m\u001B[0;34m)\u001B[0m\u001B[0;34m\u001B[0m\u001B[0;34m\u001B[0m\u001B[0m\n\u001B[0m\u001B[1;32m      2\u001B[0m \u001B[0mprint\u001B[0m\u001B[0;34m(\u001B[0m\u001B[0mlen\u001B[0m\u001B[0;34m(\u001B[0m\u001B[0mlst\u001B[0m\u001B[0;34m)\u001B[0m\u001B[0;34m)\u001B[0m\u001B[0;34m\u001B[0m\u001B[0;34m\u001B[0m\u001B[0m\n\u001B[1;32m      3\u001B[0m \u001B[0;34m\u001B[0m\u001B[0m\n",
      "\u001B[0;31mNameError\u001B[0m: name 'centroids' is not defined"
     ]
    }
   ],
   "source": [
    "lst = centroids.tolist()\n",
    "print(len(lst))"
   ],
   "metadata": {
    "collapsed": false,
    "pycharm": {
     "name": "#%%\n"
    }
   }
  },
  {
   "cell_type": "code",
   "execution_count": 6,
   "outputs": [],
   "source": [
    "np.savetxt('coordinates.txt', centroids)"
   ],
   "metadata": {
    "collapsed": false,
    "pycharm": {
     "name": "#%%\n"
    }
   }
  },
  {
   "cell_type": "code",
   "execution_count": null,
   "outputs": [],
   "source": [],
   "metadata": {
    "collapsed": false,
    "pycharm": {
     "name": "#%%\n"
    }
   }
  }
 ],
 "metadata": {
  "kernelspec": {
   "display_name": "Python 3",
   "language": "python",
   "name": "python3"
  },
  "language_info": {
   "codemirror_mode": {
    "name": "ipython",
    "version": 2
   },
   "file_extension": ".py",
   "mimetype": "text/x-python",
   "name": "python",
   "nbconvert_exporter": "python",
   "pygments_lexer": "ipython2",
   "version": "2.7.6"
  }
 },
 "nbformat": 4,
 "nbformat_minor": 0
}